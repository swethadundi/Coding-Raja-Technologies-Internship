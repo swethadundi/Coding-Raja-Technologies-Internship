{
 "cells": [
  {
   "cell_type": "code",
   "execution_count": 125,
   "id": "1689027a-34fd-48ae-a950-8d94af1c61e2",
   "metadata": {},
   "outputs": [],
   "source": [
    "#importing regular libraries\n",
    "import re\n",
    "import pandas as pd\n",
    "import numpy as np\n",
    "import emoji\n",
    "from collections import Counter\n",
    "import matplotlib.pyplot as plt\n",
    "from PIL import Image\n",
    "from wordcloud import WordCloud, STOPWORDS,ImageColorGenerator"
   ]
  },
  {
   "cell_type": "code",
   "execution_count": 151,
   "id": "f7df4689-5e67-4caa-ac37-37a15a78174f",
   "metadata": {},
   "outputs": [],
   "source": [
    "#Defination of functions\n",
    "#Extraxt the date and time\n",
    "def date_time(s):\n",
    "    pattern=\"^([0-9]+)(\\/)([0-9]+)(\\/)([0-9]+), ([0-9]+):([0-9]+)[ ]?(AM|PM|am|pm)? -\"\n",
    "    result=re.match(pattern, s)\n",
    "    if result:\n",
    "        return True\n",
    "    return False\n",
    "\n",
    "#Extraxt the Contacts\n",
    "\n",
    "def find_contacts(s):\n",
    "    s=s.split(\":\")\n",
    "    if len(s)==2:\n",
    "        return True\n",
    "    else:\n",
    "        return False\n",
    "\n",
    "\n",
    "#Extraxt Message\n",
    "\n",
    "def getMassage(line):\n",
    "    spliline= line.split(' - ')\n",
    "    datetime = splitline[0];\n",
    "    date, time=datetime.split(', ')\n",
    "    message=\" \".join(splitline[1:])\n",
    "\n",
    "    if find_contact(message):\n",
    "        splitmessage = message.split(\": \")\n",
    "        author=splitmessage[0]\n",
    "        message = \" \".join(splitline[1:])\n",
    "    else:\n",
    "        author = None\n",
    "    return date, time, contact, message\n",
    "    "
   ]
  },
  {
   "cell_type": "code",
   "execution_count": 152,
   "id": "30d55c13-2bdf-4c9a-8312-2d7ef7522481",
   "metadata": {},
   "outputs": [],
   "source": [
    "data=[]\n",
    "conversation = r\"C:\\Users\\SWETHA DUNDI\\Videos\\ML\\WhatsApp Chat with Lavanya\\WhatsApp Chat with Lavanya.txt\"\n",
    "with open(conversation, encoding=\"utf-8\")as fp:\n",
    "    fp.readline()\n",
    "    messageBuffer=[]\n",
    "    date, time, contact=None, None, None\n",
    "    while True: \n",
    "        line=fp.readline()\n",
    "        if not line:\n",
    "            break\n",
    "        line=line.strip()\n",
    "        if date_time(line):\n",
    "            if len(messageBuffer)>0:\n",
    "                data.append([date, time, author, ' '.join(messageBuffer)])\n",
    "            messageBuffer.clear() \n",
    "            date,time,author,message=getMessage(line)\n",
    "            messageBuffer.append(message)\n",
    "        else:\n",
    "            messageBuffer.append(line)\n",
    "            "
   ]
  },
  {
   "cell_type": "code",
   "execution_count": 153,
   "id": "45425381-3ba5-437d-893e-6a4ae82eb092",
   "metadata": {},
   "outputs": [
    {
     "data": {
      "text/html": [
       "<div>\n",
       "<style scoped>\n",
       "    .dataframe tbody tr th:only-of-type {\n",
       "        vertical-align: middle;\n",
       "    }\n",
       "\n",
       "    .dataframe tbody tr th {\n",
       "        vertical-align: top;\n",
       "    }\n",
       "\n",
       "    .dataframe thead th {\n",
       "        text-align: right;\n",
       "    }\n",
       "</style>\n",
       "<table border=\"1\" class=\"dataframe\">\n",
       "  <thead>\n",
       "    <tr style=\"text-align: right;\">\n",
       "      <th></th>\n",
       "      <th>Date</th>\n",
       "      <th>Time</th>\n",
       "      <th>contact</th>\n",
       "      <th>Message</th>\n",
       "      <th>positive</th>\n",
       "      <th>negative</th>\n",
       "      <th>neutral</th>\n",
       "    </tr>\n",
       "  </thead>\n",
       "  <tbody>\n",
       "  </tbody>\n",
       "</table>\n",
       "</div>"
      ],
      "text/plain": [
       "Empty DataFrame\n",
       "Columns: [Date, Time, contact, Message, positive, negative, neutral]\n",
       "Index: []"
      ]
     },
     "execution_count": 153,
     "metadata": {},
     "output_type": "execute_result"
    }
   ],
   "source": [
    "#analyse the sentiments\n",
    "\n",
    "df=pd.DataFrame(data, columns=[\"Date\",\"Time\",\"contact\",\"Message\"])\n",
    "df[\"Date\"]=pd.to_datetime(df[\"Date\"])\n",
    "data=df.dropna()\n",
    "\n",
    "from nltk.sentiment.vader import SentimentIntensityAnalyzer\n",
    "sentiments=SentimentIntensityAnalyzer()\n",
    "data[\"positive\"]=[sentiments.polarity_scores(i)[\"pos\"]for i in data[\"Message\"]]\n",
    "data[\"negative\"]=[sentiments.polarity_scores(i)[\"neg\"]for i in data[\"Message\"]]\n",
    "data[\"neutral\"]=[sentiments.polarity_scores(i)[\"neu\"]for i in data[\"Message\"]]\n",
    "data.head(20)\n",
    "\n",
    "    \n",
    " "
   ]
  },
  {
   "cell_type": "code",
   "execution_count": 157,
   "id": "5de7179e-565f-4a49-8d55-0b21f5c55b03",
   "metadata": {},
   "outputs": [],
   "source": [
    "x=sum(data[\"positive\"])\n",
    "y=sum(data[\"negative\"])\n",
    "z=sum(data[\"neutral\"])\n",
    "\n",
    "def score(a,b,c):\n",
    "    if (a>b) and (a>c):\n",
    "        print(\"Positive\")\n",
    "    if  (b>a) and (b>c):\n",
    "        print(\"Negative\")\n",
    "    if  (c>a) and (c>b):\n",
    "        print(\"Neutral\")\n",
    "score(x,y,z)"
   ]
  },
  {
   "cell_type": "code",
   "execution_count": null,
   "id": "ddb0a04f-f5ca-436d-8272-23db762e1138",
   "metadata": {},
   "outputs": [],
   "source": []
  }
 ],
 "metadata": {
  "kernelspec": {
   "display_name": "Python 3 (ipykernel)",
   "language": "python",
   "name": "python3"
  },
  "language_info": {
   "codemirror_mode": {
    "name": "ipython",
    "version": 3
   },
   "file_extension": ".py",
   "mimetype": "text/x-python",
   "name": "python",
   "nbconvert_exporter": "python",
   "pygments_lexer": "ipython3",
   "version": "3.11.7"
  }
 },
 "nbformat": 4,
 "nbformat_minor": 5
}
